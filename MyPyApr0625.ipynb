{
  "nbformat": 4,
  "nbformat_minor": 0,
  "metadata": {
    "colab": {
      "provenance": [],
      "authorship_tag": "ABX9TyNO/kEgvMMcn4Tjl4wyiSko",
      "include_colab_link": true
    },
    "kernelspec": {
      "name": "python3",
      "display_name": "Python 3"
    },
    "language_info": {
      "name": "python"
    }
  },
  "cells": [
    {
      "cell_type": "markdown",
      "metadata": {
        "id": "view-in-github",
        "colab_type": "text"
      },
      "source": [
        "<a href=\"https://colab.research.google.com/github/mmuthu2004/Python/blob/master/MyPyApr0625.ipynb\" target=\"_parent\"><img src=\"https://colab.research.google.com/assets/colab-badge.svg\" alt=\"Open In Colab\"/></a>"
      ]
    },
    {
      "cell_type": "code",
      "execution_count": 2,
      "metadata": {
        "colab": {
          "base_uri": "https://localhost:8080/",
          "height": 122
        },
        "id": "T5hlPyVxu1mP",
        "outputId": "3828e00f-1fe8-44ca-9afa-7e6e1b5ccfcc"
      },
      "outputs": [
        {
          "output_type": "execute_result",
          "data": {
            "text/plain": [
              "'\\nProblem:\\n\\nYou are given a dataset of transactions from an e-commerce platform in the form of a list of dictionaries. \\nEach dictionary contains information about a single transaction. The dataset is as follows:\\n\\ntransactions = [\\n    {\"order_id\": \"1001\", \"customer_id\": \"C001\", \"amount\": 150.0, \"category\": \"Electronics\", \"timestamp\": \"2025-04-01 10:00:00\"},\\n    {\"order_id\": \"1002\", \"customer_id\": \"C002\", \"amount\": 200.0, \"category\": \"Clothing\", \"timestamp\": \"2025-04-01 11:00:00\"},\\n    {\"order_id\": \"1003\", \"customer_id\": \"C001\", \"amount\": 50.0, \"category\": \"Books\", \"timestamp\": \"2025-04-01 12:00:00\"},\\n    {\"order_id\": \"1004\", \"customer_id\": \"C003\", \"amount\": 120.0, \"category\": \"Electronics\", \"timestamp\": \"2025-04-01 13:00:00\"},\\n    {\"order_id\": \"1005\", \"customer_id\": \"C001\", \"amount\": 75.0, \"category\": \"Clothing\", \"timestamp\": \"2025-04-01 14:00:00\"},\\n    {\"order_id\": \"1006\", \"customer_id\": \"C002\", \"amount\": 50.0, \"category\": \"Books\", \"timestamp\": \"2025-04-01 15:00:00\"}\\n]\\n'"
            ],
            "application/vnd.google.colaboratory.intrinsic+json": {
              "type": "string"
            }
          },
          "metadata": {},
          "execution_count": 2
        }
      ],
      "source": [
        "'''\n",
        "Problem:\n",
        "\n",
        "You are given a dataset of transactions from an e-commerce platform in the form of a list of dictionaries.\n",
        "Each dictionary contains information about a single transaction. The dataset is as follows:\n",
        "\n",
        "transactions = [\n",
        "    {\"order_id\": \"1001\", \"customer_id\": \"C001\", \"amount\": 150.0, \"category\": \"Electronics\", \"timestamp\": \"2025-04-01 10:00:00\"},\n",
        "    {\"order_id\": \"1002\", \"customer_id\": \"C002\", \"amount\": 200.0, \"category\": \"Clothing\", \"timestamp\": \"2025-04-01 11:00:00\"},\n",
        "    {\"order_id\": \"1003\", \"customer_id\": \"C001\", \"amount\": 50.0, \"category\": \"Books\", \"timestamp\": \"2025-04-01 12:00:00\"},\n",
        "    {\"order_id\": \"1004\", \"customer_id\": \"C003\", \"amount\": 120.0, \"category\": \"Electronics\", \"timestamp\": \"2025-04-01 13:00:00\"},\n",
        "    {\"order_id\": \"1005\", \"customer_id\": \"C001\", \"amount\": 75.0, \"category\": \"Clothing\", \"timestamp\": \"2025-04-01 14:00:00\"},\n",
        "    {\"order_id\": \"1006\", \"customer_id\": \"C002\", \"amount\": 50.0, \"category\": \"Books\", \"timestamp\": \"2025-04-01 15:00:00\"}\n",
        "]\n",
        "\n",
        "Write a Python function to perform the following tasks:\n",
        "\n",
        "Filter and transform the dataset:\n",
        "\n",
        "Filter transactions to only include those that are from the Electronics category.\n",
        "\n",
        "Extract the order_id, customer_id, and amount fields from each transaction in the Electronics category and store them in a new list of dictionaries. The list should look like:\n",
        "\n",
        "python\n",
        "Copy\n",
        "[\n",
        "    {\"order_id\": \"1001\", \"customer_id\": \"C001\", \"amount\": 150.0},\n",
        "    {\"order_id\": \"1004\", \"customer_id\": \"C003\", \"amount\": 120.0}\n",
        "]\n",
        "Calculate total spending per customer:\n",
        "\n",
        "For each customer, calculate the total amount they have spent across all transactions. Return a dictionary where the keys are customer_ids and the values are the total amount spent. For example:\n",
        "\n",
        "python\n",
        "Copy\n",
        "{\"C001\": 375.0, \"C002\": 250.0, \"C003\": 120.0}\n",
        "Find customers with the highest spending:\n",
        "\n",
        "Using the results from the previous step, identify the customer(s) with the highest total spending.\n",
        "\n",
        "Date format manipulation:\n",
        "\n",
        "Convert the timestamp field of each transaction from the string format \"YYYY-MM-DD HH:MM:SS\" to the format \"DD-MM-YYYY HH:MM:SS\". For example, \"2025-04-01 10:00:00\" should become \"01-04-2025 10:00:00\".\n",
        "\n",
        "Count transactions per category:\n",
        "\n",
        "Count the number of transactions in each category (Electronics, Clothing, Books, etc.) and return a dictionary of category counts.\n",
        "\n",
        "Loop through transactions:\n",
        "\n",
        "Write a for loop to iterate over the dataset, and print the order_id and amount of each transaction in the Clothing category.\n",
        "\n",
        "String manipulation:\n",
        "\n",
        "For each customer_id, print the customer_id with all characters in uppercase.\n",
        "'''"
      ]
    },
    {
      "cell_type": "code",
      "source": [
        "#Filter and transform the dataset:\n",
        "\n",
        "\n",
        "transactions = [\n",
        "    {\"order_id\": \"1001\", \"customer_id\": \"C001\", \"amount\": 150.0, \"category\": \"Electronics\", \"timestamp\": \"2025-04-01 10:00:00\"},\n",
        "    {\"order_id\": \"1002\", \"customer_id\": \"C002\", \"amount\": 200.0, \"category\": \"Clothing\", \"timestamp\": \"2025-04-01 11:00:00\"},\n",
        "    {\"order_id\": \"1003\", \"customer_id\": \"C001\", \"amount\": 50.0, \"category\": \"Books\", \"timestamp\": \"2025-04-01 12:00:00\"},\n",
        "    {\"order_id\": \"1004\", \"customer_id\": \"C003\", \"amount\": 120.0, \"category\": \"Electronics\", \"timestamp\": \"2025-04-01 13:00:00\"},\n",
        "    {\"order_id\": \"1005\", \"customer_id\": \"C001\", \"amount\": 75.0, \"category\": \"Clothing\", \"timestamp\": \"2025-04-01 14:00:00\"},\n",
        "    {\"order_id\": \"1006\", \"customer_id\": \"C002\", \"amount\": 50.0, \"category\": \"Books\", \"timestamp\": \"2025-04-01 15:00:00\"}\n",
        "]\n",
        "\n",
        "d = {}\n",
        "\n",
        "for diction in transactions:\n",
        "  for key, value in diction.items():\n",
        "    if value == 'Electronics':\n",
        "      print(diction)\n",
        "    else:\n",
        "      None\n",
        "\n",
        "print(d)\n",
        "'''\n",
        "for dict in transactions:\n",
        "  for key,value in enumerate(dict):\n",
        "    d[key] = value\n",
        "\n",
        "\n",
        "print(d)\n",
        "\n",
        "'''\n",
        "\n",
        "#this solution is incorrect. check next for proper solution."
      ],
      "metadata": {
        "colab": {
          "base_uri": "https://localhost:8080/",
          "height": 88
        },
        "id": "EGEaactVvfkD",
        "outputId": "f61a83ba-e43b-47c9-f3c7-49e22f4c92b4"
      },
      "execution_count": 18,
      "outputs": [
        {
          "output_type": "stream",
          "name": "stdout",
          "text": [
            "{'order_id': '1001', 'customer_id': 'C001', 'amount': 150.0, 'category': 'Electronics', 'timestamp': '2025-04-01 10:00:00'}\n",
            "{'order_id': '1004', 'customer_id': 'C003', 'amount': 120.0, 'category': 'Electronics', 'timestamp': '2025-04-01 13:00:00'}\n",
            "{}\n"
          ]
        },
        {
          "output_type": "execute_result",
          "data": {
            "text/plain": [
              "'\\nfor dict in transactions:\\n  for key,value in enumerate(dict):\\n    d[key] = value\\n    \\n\\nprint(d)\\n\\n'"
            ],
            "application/vnd.google.colaboratory.intrinsic+json": {
              "type": "string"
            }
          },
          "metadata": {},
          "execution_count": 18
        }
      ]
    },
    {
      "cell_type": "code",
      "source": [
        "transactions = [\n",
        "    {\"order_id\": \"1001\", \"customer_id\": \"C001\", \"amount\": 150.0, \"category\": \"Electronics\", \"timestamp\": \"2025-04-01 10:00:00\"},\n",
        "    {\"order_id\": \"1002\", \"customer_id\": \"C002\", \"amount\": 200.0, \"category\": \"Clothing\", \"timestamp\": \"2025-04-01 11:00:00\"},\n",
        "    {\"order_id\": \"1003\", \"customer_id\": \"C001\", \"amount\": 50.0, \"category\": \"Books\", \"timestamp\": \"2025-04-01 12:00:00\"},\n",
        "    {\"order_id\": \"1004\", \"customer_id\": \"C003\", \"amount\": 120.0, \"category\": \"Electronics\", \"timestamp\": \"2025-04-01 13:00:00\"},\n",
        "    {\"order_id\": \"1005\", \"customer_id\": \"C001\", \"amount\": 75.0, \"category\": \"Clothing\", \"timestamp\": \"2025-04-01 14:00:00\"},\n",
        "    {\"order_id\": \"1006\", \"customer_id\": \"C002\", \"amount\": 50.0, \"category\": \"Books\", \"timestamp\": \"2025-04-01 15:00:00\"}\n",
        "]\n",
        "\n",
        "lst = [{\"order_id\" : diction[\"order_id\"],\n",
        "        \"customer_id\" : diction[\"customer_id\"],\n",
        "        \"amount\" : diction[\"amount\"]}\n",
        "        for diction in transactions if diction[\"category\"] == 'Electronics']\n",
        "print(lst)"
      ],
      "metadata": {
        "colab": {
          "base_uri": "https://localhost:8080/"
        },
        "id": "G4tRYWXsv7nm",
        "outputId": "c354232e-1c7e-4498-e111-0ed5439cbbeb"
      },
      "execution_count": 22,
      "outputs": [
        {
          "output_type": "stream",
          "name": "stdout",
          "text": [
            "[{'order_id': '1001', 'customer_id': 'C001', 'amount': 150.0}, {'order_id': '1004', 'customer_id': 'C003', 'amount': 120.0}]\n"
          ]
        }
      ]
    },
    {
      "cell_type": "code",
      "source": [
        "##Calculate total spending per customer:\n",
        "\n",
        "#For each customer, calculate the total amount they have spent across all transactions. Return a dictionary where the keys are customer_ids and the values are the total amount spent. For example:\n",
        "\n",
        "transactions = [\n",
        "    {\"order_id\": \"1001\", \"customer_id\": \"C001\", \"amount\": 150.0, \"category\": \"Electronics\", \"timestamp\": \"2025-04-01 10:00:00\"},\n",
        "    {\"order_id\": \"1002\", \"customer_id\": \"C002\", \"amount\": 200.0, \"category\": \"Clothing\", \"timestamp\": \"2025-04-01 11:00:00\"},\n",
        "    {\"order_id\": \"1003\", \"customer_id\": \"C001\", \"amount\": 50.0, \"category\": \"Books\", \"timestamp\": \"2025-04-01 12:00:00\"},\n",
        "    {\"order_id\": \"1004\", \"customer_id\": \"C003\", \"amount\": 120.0, \"category\": \"Electronics\", \"timestamp\": \"2025-04-01 13:00:00\"},\n",
        "    {\"order_id\": \"1005\", \"customer_id\": \"C001\", \"amount\": 75.0, \"category\": \"Clothing\", \"timestamp\": \"2025-04-01 14:00:00\"},\n",
        "    {\"order_id\": \"1006\", \"customer_id\": \"C002\", \"amount\": 50.0, \"category\": \"Books\", \"timestamp\": \"2025-04-01 15:00:00\"}\n",
        "]\n",
        "'''\n",
        "lst = [{\"customer_id\": d1[\"customer_id\"], \"amount\": d1[\"amount\"]} for d1 in transactions]\n",
        "print(lst)\n",
        "\n",
        "dout = {}\n",
        "for d2 in lst:\n",
        "  for key, value in enumerate(d2):\n",
        "    dout[key] = value\n",
        "\n",
        "print(dout)\n",
        "\n",
        "\n",
        "'''\n",
        "\n",
        "#Working solution:\n",
        "\n",
        "d1 = {}\n",
        "\n",
        "for transaction in transactions:\n",
        "  customerid = transaction[\"customer_id\"]\n",
        "  amount = transaction[\"amount\"]\n",
        "\n",
        "  if customerid in d1:\n",
        "    d1[customerid] += amount\n",
        "  else:\n",
        "    d1[customerid] = amount\n",
        "\n",
        "\n",
        "print(d1)\n"
      ],
      "metadata": {
        "colab": {
          "base_uri": "https://localhost:8080/"
        },
        "id": "3wLil4fL1Al3",
        "outputId": "35f78b3b-8395-413f-ace8-e2f525cf28ac"
      },
      "execution_count": 49,
      "outputs": [
        {
          "output_type": "stream",
          "name": "stdout",
          "text": [
            "{'C001': 275.0, 'C002': 250.0, 'C003': 120.0}\n"
          ]
        }
      ]
    },
    {
      "cell_type": "code",
      "source": [
        "#Using the results from the previous step, identify the customer(s) with the highest total spending.\n",
        "\n",
        "d1 = {}\n",
        "\n",
        "for transaction in transactions:\n",
        "  customerid = transaction[\"customer_id\"]\n",
        "  amount = transaction[\"amount\"]\n",
        "\n",
        "  if customerid in d1:\n",
        "    d1[customerid] += amount\n",
        "  else:\n",
        "    d1[customerid] = amount\n",
        "\n",
        "\n",
        "print(d1)\n",
        "\n",
        "maxvalue = max(d1.values())\n",
        "print(maxvalue)\n",
        "\n",
        "lst = [key for key,value in d1.items() if value == maxvalue ]\n",
        "print(lst)\n"
      ],
      "metadata": {
        "colab": {
          "base_uri": "https://localhost:8080/"
        },
        "id": "Lo09NOhp4Jcf",
        "outputId": "0c1472cd-bcc3-41ec-fa71-93ec16807035"
      },
      "execution_count": 65,
      "outputs": [
        {
          "output_type": "stream",
          "name": "stdout",
          "text": [
            "{'C001': 275.0, 'C002': 250.0, 'C003': 120.0}\n",
            "275.0\n",
            "['C001']\n"
          ]
        }
      ]
    },
    {
      "cell_type": "code",
      "source": [
        "\n",
        "\n"
      ],
      "metadata": {
        "colab": {
          "base_uri": "https://localhost:8080/",
          "height": 176
        },
        "id": "NC5CVTUpDbmq",
        "outputId": "e0204491-51b9-4777-a099-6e845571092f"
      },
      "execution_count": 82,
      "outputs": [
        {
          "output_type": "error",
          "ename": "TypeError",
          "evalue": "'str' object is not callable",
          "traceback": [
            "\u001b[0;31m---------------------------------------------------------------------------\u001b[0m",
            "\u001b[0;31mTypeError\u001b[0m                                 Traceback (most recent call last)",
            "\u001b[0;32m<ipython-input-82-b04f8843d3c4>\u001b[0m in \u001b[0;36m<cell line: 0>\u001b[0;34m()\u001b[0m\n\u001b[0;32m----> 1\u001b[0;31m \u001b[0mx\u001b[0m \u001b[0;34m=\u001b[0m \u001b[0minput\u001b[0m\u001b[0;34m(\u001b[0m\u001b[0;34m\"Enter a STring \"\u001b[0m\u001b[0;34m)\u001b[0m\u001b[0;34m\u001b[0m\u001b[0;34m\u001b[0m\u001b[0m\n\u001b[0m\u001b[1;32m      2\u001b[0m \u001b[0mprint\u001b[0m\u001b[0;34m(\u001b[0m\u001b[0mx\u001b[0m\u001b[0;34m)\u001b[0m\u001b[0;34m\u001b[0m\u001b[0;34m\u001b[0m\u001b[0m\n\u001b[1;32m      3\u001b[0m \u001b[0;34m\u001b[0m\u001b[0m\n",
            "\u001b[0;31mTypeError\u001b[0m: 'str' object is not callable"
          ]
        }
      ]
    },
    {
      "cell_type": "code",
      "source": [],
      "metadata": {
        "id": "SEI1mSN4ED9L"
      },
      "execution_count": null,
      "outputs": []
    }
  ]
}